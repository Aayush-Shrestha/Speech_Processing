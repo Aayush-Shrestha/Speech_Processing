{
 "cells": [
  {
   "cell_type": "code",
   "execution_count": 23,
   "metadata": {},
   "outputs": [],
   "source": [
    "import librosa"
   ]
  },
  {
   "cell_type": "code",
   "execution_count": 24,
   "metadata": {},
   "outputs": [],
   "source": [
    "filename = 'ted.mp3'\n",
    "y, sr = librosa.load(filename)"
   ]
  },
  {
   "cell_type": "code",
   "execution_count": 25,
   "metadata": {},
   "outputs": [
    {
     "data": {
      "text/plain": [
       "array([[   2048,  255488],\n",
       "       [ 261120,  269312],\n",
       "       [ 289792,  302080],\n",
       "       [ 321536,  337920],\n",
       "       [ 339456,  343040],\n",
       "       [ 350720,  370688],\n",
       "       [ 372224,  375808],\n",
       "       [ 401408,  409088],\n",
       "       [ 420864,  436736],\n",
       "       [ 437248,  440832],\n",
       "       [ 441344,  446464],\n",
       "       [ 446976,  451584],\n",
       "       [ 475648,  476160],\n",
       "       [ 482816,  512512],\n",
       "       [ 515072,  529408],\n",
       "       [ 540160,  578048],\n",
       "       [ 582656,  601600],\n",
       "       [ 611840,  618496],\n",
       "       [ 636416,  656384],\n",
       "       [ 665088,  677888],\n",
       "       [ 680448,  685568],\n",
       "       [ 686080,  692224],\n",
       "       [ 704512,  713728],\n",
       "       [ 718848,  723456],\n",
       "       [ 726528,  731136],\n",
       "       [ 759296,  763392],\n",
       "       [ 764416,  768000],\n",
       "       [ 769024,  773120],\n",
       "       [ 799232,  865792],\n",
       "       [ 866816,  873472],\n",
       "       [ 874496,  883200],\n",
       "       [ 890880,  903168],\n",
       "       [ 904192,  910848],\n",
       "       [ 930816,  974336],\n",
       "       [ 979968,  983040],\n",
       "       [ 989184, 1000448],\n",
       "       [1021440, 1045504],\n",
       "       [1046528, 1063936],\n",
       "       [1065472, 1069056],\n",
       "       [1070080, 1074688],\n",
       "       [1076224, 1085440],\n",
       "       [1086976, 1091072],\n",
       "       [1092096, 1096192],\n",
       "       [1108992, 1120256],\n",
       "       [1127936, 1140736],\n",
       "       [1143296, 1151488],\n",
       "       [1167872, 1186816],\n",
       "       [1187840, 1194496],\n",
       "       [1206784, 1212416],\n",
       "       [1213440, 1218048],\n",
       "       [1229824, 1257472],\n",
       "       [1271808, 1276416],\n",
       "       [1277440, 1294848],\n",
       "       [1295360, 1316864],\n",
       "       [1317888, 1330688],\n",
       "       [1331200, 1343488],\n",
       "       [1356288, 1368064],\n",
       "       [1371136, 1390080],\n",
       "       [1394176, 1411584],\n",
       "       [1452032, 1465344],\n",
       "       [1483264, 1686528],\n",
       "       [1688064, 1690624]])"
      ]
     },
     "execution_count": 25,
     "metadata": {},
     "output_type": "execute_result"
    }
   ],
   "source": [
    "# Detect silent regions\n",
    "intervals = librosa.effects.split(y, top_db=30)\n",
    "intervals"
   ]
  },
  {
   "cell_type": "code",
   "execution_count": 26,
   "metadata": {},
   "outputs": [],
   "source": [
    "\n",
    "# Determine end-of-sentence pauses\n",
    "end_of_sentence_pauses = []\n",
    "for start, end in intervals:\n",
    "    duration = (end - start) / sr\n",
    "    if duration > 0.5:  # Adjust the threshold as needed\n",
    "        end_of_sentence_pauses.append(end)"
   ]
  },
  {
   "cell_type": "code",
   "execution_count": 27,
   "metadata": {},
   "outputs": [],
   "source": [
    "# Split the audio into tokens\n",
    "tokens = []\n",
    "start = 0\n",
    "for pause in end_of_sentence_pauses:\n",
    "    tokens.append(y[start:pause])\n",
    "    start = pause\n",
    "tokens.append(y[start:])"
   ]
  },
  {
   "cell_type": "code",
   "execution_count": 28,
   "metadata": {},
   "outputs": [],
   "source": [
    "import soundfile as sf\n",
    "# Save the tokens as separate audio files\n",
    "for i, token in enumerate(tokens):\n",
    "    sf.write(f'token_{i}.wav', token, sr, 'PCM_24')"
   ]
  },
  {
   "cell_type": "code",
   "execution_count": 30,
   "metadata": {},
   "outputs": [
    {
     "ename": "IndexError",
     "evalue": "tuple index out of range",
     "output_type": "error",
     "traceback": [
      "\u001b[1;31m---------------------------------------------------------------------------\u001b[0m",
      "\u001b[1;31mIndexError\u001b[0m                                Traceback (most recent call last)",
      "Cell \u001b[1;32mIn[30], line 1\u001b[0m\n\u001b[1;32m----> 1\u001b[0m \u001b[43mlibrosa\u001b[49m\u001b[38;5;241;43m.\u001b[39;49m\u001b[43mdisplay\u001b[49m\u001b[38;5;241;43m.\u001b[39;49m\u001b[43mspecshow\u001b[49m\u001b[43m(\u001b[49m\u001b[43my\u001b[49m\u001b[43m)\u001b[49m\n",
      "File \u001b[1;32md:\\Github\\Speech_Processing\\venv\\lib\\site-packages\\librosa\\display.py:1212\u001b[0m, in \u001b[0;36mspecshow\u001b[1;34m(data, x_coords, y_coords, x_axis, y_axis, sr, hop_length, n_fft, win_length, fmin, fmax, tempo_min, tempo_max, tuning, bins_per_octave, key, Sa, mela, thaat, auto_aspect, htk, unicode, intervals, unison, ax, **kwargs)\u001b[0m\n\u001b[0;32m   1210\u001b[0m \u001b[38;5;66;03m# Get the x and y coordinates\u001b[39;00m\n\u001b[0;32m   1211\u001b[0m y_coords \u001b[38;5;241m=\u001b[39m __mesh_coords(y_axis, y_coords, data\u001b[38;5;241m.\u001b[39mshape[\u001b[38;5;241m0\u001b[39m], \u001b[38;5;241m*\u001b[39m\u001b[38;5;241m*\u001b[39mall_params)\n\u001b[1;32m-> 1212\u001b[0m x_coords \u001b[38;5;241m=\u001b[39m __mesh_coords(x_axis, x_coords, \u001b[43mdata\u001b[49m\u001b[38;5;241;43m.\u001b[39;49m\u001b[43mshape\u001b[49m\u001b[43m[\u001b[49m\u001b[38;5;241;43m1\u001b[39;49m\u001b[43m]\u001b[49m, \u001b[38;5;241m*\u001b[39m\u001b[38;5;241m*\u001b[39mall_params)\n\u001b[0;32m   1214\u001b[0m axes \u001b[38;5;241m=\u001b[39m __check_axes(ax)\n\u001b[0;32m   1216\u001b[0m out \u001b[38;5;241m=\u001b[39m axes\u001b[38;5;241m.\u001b[39mpcolormesh(x_coords, y_coords, data, \u001b[38;5;241m*\u001b[39m\u001b[38;5;241m*\u001b[39mkwargs)\n",
      "\u001b[1;31mIndexError\u001b[0m: tuple index out of range"
     ]
    }
   ],
   "source": [
    "librosa.display.specshow(y)"
   ]
  },
  {
   "cell_type": "code",
   "execution_count": null,
   "metadata": {},
   "outputs": [],
   "source": []
  }
 ],
 "metadata": {
  "kernelspec": {
   "display_name": "Python 3",
   "language": "python",
   "name": "python3"
  },
  "language_info": {
   "codemirror_mode": {
    "name": "ipython",
    "version": 3
   },
   "file_extension": ".py",
   "mimetype": "text/x-python",
   "name": "python",
   "nbconvert_exporter": "python",
   "pygments_lexer": "ipython3",
   "version": "3.8.10"
  }
 },
 "nbformat": 4,
 "nbformat_minor": 2
}
